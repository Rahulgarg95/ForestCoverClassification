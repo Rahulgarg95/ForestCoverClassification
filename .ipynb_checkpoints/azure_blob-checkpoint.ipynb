{
 "cells": [
  {
   "cell_type": "code",
   "execution_count": 72,
   "metadata": {},
   "outputs": [],
   "source": [
    "import os, uuid\n",
    "from azure.storage.blob import BlobServiceClient, BlobClient, ContainerClient, __version__"
   ]
  },
  {
   "cell_type": "code",
   "execution_count": 2,
   "metadata": {},
   "outputs": [
    {
     "name": "stdout",
     "output_type": "stream",
     "text": [
      "Azure Blob Storage v12.8.0 - Python quickstart sample\n"
     ]
    }
   ],
   "source": [
    "try:\n",
    "    print(\"Azure Blob Storage v\" + __version__ + \" - Python quickstart sample\")\n",
    "except Exception as ex:\n",
    "    print('Exception:')\n",
    "    print(ex)"
   ]
  },
  {
   "cell_type": "code",
   "execution_count": 6,
   "metadata": {},
   "outputs": [],
   "source": [
    "azure_conn_str='DefaultEndpointsProtocol=https;AccountName=forestcoverclass;AccountKey=opC1RsZQ5O3bOYRoVPehd6ghJ+vyneY8QpcXbpDOd15r4FICnBBSMT6o45txXveLUCql7DfD2TeDVwJx8jQzzg==;EndpointSuffix=core.windows.net'"
   ]
  },
  {
   "cell_type": "code",
   "execution_count": 7,
   "metadata": {},
   "outputs": [],
   "source": [
    "connect_str = os.getenv('AZURE_STORAGE_CONNECTION_STRING')"
   ]
  },
  {
   "cell_type": "code",
   "execution_count": 8,
   "metadata": {},
   "outputs": [],
   "source": [
    "connect_str"
   ]
  },
  {
   "cell_type": "code",
   "execution_count": 60,
   "metadata": {},
   "outputs": [],
   "source": [
    "# Create the BlobServiceClient object which will be used to create a container client\n",
    "blob_service_client = BlobServiceClient.from_connection_string(azure_conn_str)\n",
    "\n",
    "# Create a unique name for the container\n",
    "container_name = str(uuid.uuid4())\n",
    "\n",
    "# Create the container\n",
    "container_client = blob_service_client.create_container(container_name)"
   ]
  },
  {
   "cell_type": "code",
   "execution_count": 37,
   "metadata": {},
   "outputs": [],
   "source": [
    "blob_service_client = BlobServiceClient.from_connection_string(azure_conn_str)"
   ]
  },
  {
   "cell_type": "code",
   "execution_count": 61,
   "metadata": {},
   "outputs": [
    {
     "data": {
      "text/plain": [
       "<azure.storage.blob._container_client.ContainerClient at 0x119cc6e8>"
      ]
     },
     "execution_count": 61,
     "metadata": {},
     "output_type": "execute_result"
    }
   ],
   "source": [
    "container_client"
   ]
  },
  {
   "cell_type": "code",
   "execution_count": 62,
   "metadata": {},
   "outputs": [
    {
     "data": {
      "text/plain": [
       "<iterator object azure.core.paging.ItemPaged at 0x118cc820>"
      ]
     },
     "execution_count": 62,
     "metadata": {},
     "output_type": "execute_result"
    }
   ],
   "source": [
    "blob_service_client.list_containers()"
   ]
  },
  {
   "cell_type": "code",
   "execution_count": 63,
   "metadata": {},
   "outputs": [
    {
     "name": "stdout",
     "output_type": "stream",
     "text": [
      "7fae3a05-8583-45a2-93d4-d51f85786279\n",
      "98964315-b4bb-4217-917f-91725d4d0d68\n",
      "targetdirectory\n"
     ]
    }
   ],
   "source": [
    "for x in blob_service_client.list_containers():\n",
    "    print(x['name'])"
   ]
  },
  {
   "cell_type": "code",
   "execution_count": 20,
   "metadata": {},
   "outputs": [],
   "source": [
    "from azure.storage.blob import PublicAccess"
   ]
  },
  {
   "cell_type": "code",
   "execution_count": 22,
   "metadata": {},
   "outputs": [],
   "source": [
    "file_list=os.listdir('Training_Batch_Files')"
   ]
  },
  {
   "cell_type": "code",
   "execution_count": 23,
   "metadata": {},
   "outputs": [],
   "source": [
    "file_n=file_list[0]"
   ]
  },
  {
   "cell_type": "code",
   "execution_count": 24,
   "metadata": {},
   "outputs": [
    {
     "data": {
      "text/plain": [
       "'forest_co8011998_120218.csv'"
      ]
     },
     "execution_count": 24,
     "metadata": {},
     "output_type": "execute_result"
    }
   ],
   "source": [
    "file_n"
   ]
  },
  {
   "cell_type": "code",
   "execution_count": 64,
   "metadata": {},
   "outputs": [],
   "source": [
    "for file_n in file_list:\n",
    "    with open(os.path.join('Training_Batch_Files',file_n), \"rb\") as data:\n",
    "        blob_client = container_client.upload_blob(name=file_n, data=data)"
   ]
  },
  {
   "cell_type": "code",
   "execution_count": 27,
   "metadata": {},
   "outputs": [],
   "source": [
    "blob_client = container_client.get_blob_client(\"sampleblob\")"
   ]
  },
  {
   "cell_type": "code",
   "execution_count": 29,
   "metadata": {},
   "outputs": [],
   "source": [
    "blob_client.delete_blob()"
   ]
  },
  {
   "cell_type": "code",
   "execution_count": 31,
   "metadata": {},
   "outputs": [],
   "source": [
    "account_name=blob_service_client.account_name"
   ]
  },
  {
   "cell_type": "code",
   "execution_count": 32,
   "metadata": {},
   "outputs": [],
   "source": [
    "source_directory='7fae3a05-8583-45a2-93d4-d51f85786279'"
   ]
  },
  {
   "cell_type": "code",
   "execution_count": 33,
   "metadata": {},
   "outputs": [],
   "source": [
    "file_name='forest_co8011998_120218.csv'"
   ]
  },
  {
   "cell_type": "code",
   "execution_count": 34,
   "metadata": {},
   "outputs": [],
   "source": [
    "source_blob = (f\"https://{account_name}.blob.core.windows.net/{source_directory}/{file_name}\")"
   ]
  },
  {
   "cell_type": "code",
   "execution_count": 35,
   "metadata": {},
   "outputs": [
    {
     "data": {
      "text/plain": [
       "'https://forestcoverclass.blob.core.windows.net/7fae3a05-8583-45a2-93d4-d51f85786279/forest_co8011998_120218.csv'"
      ]
     },
     "execution_count": 35,
     "metadata": {},
     "output_type": "execute_result"
    }
   ],
   "source": [
    "source_blob"
   ]
  },
  {
   "cell_type": "code",
   "execution_count": 41,
   "metadata": {},
   "outputs": [
    {
     "data": {
      "text/plain": [
       "<azure.storage.blob._container_client.ContainerClient at 0xb16fa0>"
      ]
     },
     "execution_count": 41,
     "metadata": {},
     "output_type": "execute_result"
    }
   ],
   "source": [
    "container_client"
   ]
  },
  {
   "cell_type": "code",
   "execution_count": 43,
   "metadata": {},
   "outputs": [],
   "source": [
    "copied_blob  = blob_service_client.get_blob_client('targetdirectory','forest_co8011998_120218.csv')"
   ]
  },
  {
   "cell_type": "code",
   "execution_count": 44,
   "metadata": {},
   "outputs": [
    {
     "data": {
      "text/plain": [
       "{'etag': '\"0x8D8E56D51BCF4BA\"',\n",
       " 'last_modified': datetime.datetime(2021, 3, 12, 15, 41, 35, tzinfo=datetime.timezone.utc),\n",
       " 'client_request_id': '6d538f0a-8349-11eb-b0ad-bce92fcc494d',\n",
       " 'request_id': 'c4c81a4b-101e-003b-2c56-179425000000',\n",
       " 'version': '2020-06-12',\n",
       " 'version_id': None,\n",
       " 'date': datetime.datetime(2021, 3, 12, 15, 41, 35, tzinfo=datetime.timezone.utc),\n",
       " 'copy_id': '01f58384-3ec4-4bf2-b8a4-472ea4d55047',\n",
       " 'copy_status': 'success'}"
      ]
     },
     "execution_count": 44,
     "metadata": {},
     "output_type": "execute_result"
    }
   ],
   "source": [
    "copied_blob.start_copy_from_url(source_blob)"
   ]
  },
  {
   "cell_type": "code",
   "execution_count": 45,
   "metadata": {},
   "outputs": [],
   "source": [
    "import pandas as pd\n",
    "import io"
   ]
  },
  {
   "cell_type": "code",
   "execution_count": 46,
   "metadata": {},
   "outputs": [],
   "source": [
    "csv_buffer = io.StringIO()"
   ]
  },
  {
   "cell_type": "code",
   "execution_count": 48,
   "metadata": {},
   "outputs": [],
   "source": [
    "master_list=[['a','b'],[1,2]]"
   ]
  },
  {
   "cell_type": "code",
   "execution_count": 49,
   "metadata": {},
   "outputs": [],
   "source": [
    "df=pd.DataFrame(master_list,columns=['col1','col2'])"
   ]
  },
  {
   "cell_type": "code",
   "execution_count": 50,
   "metadata": {},
   "outputs": [
    {
     "data": {
      "text/html": [
       "<div>\n",
       "<style scoped>\n",
       "    .dataframe tbody tr th:only-of-type {\n",
       "        vertical-align: middle;\n",
       "    }\n",
       "\n",
       "    .dataframe tbody tr th {\n",
       "        vertical-align: top;\n",
       "    }\n",
       "\n",
       "    .dataframe thead th {\n",
       "        text-align: right;\n",
       "    }\n",
       "</style>\n",
       "<table border=\"1\" class=\"dataframe\">\n",
       "  <thead>\n",
       "    <tr style=\"text-align: right;\">\n",
       "      <th></th>\n",
       "      <th>col1</th>\n",
       "      <th>col2</th>\n",
       "    </tr>\n",
       "  </thead>\n",
       "  <tbody>\n",
       "    <tr>\n",
       "      <th>0</th>\n",
       "      <td>a</td>\n",
       "      <td>b</td>\n",
       "    </tr>\n",
       "    <tr>\n",
       "      <th>1</th>\n",
       "      <td>1</td>\n",
       "      <td>2</td>\n",
       "    </tr>\n",
       "  </tbody>\n",
       "</table>\n",
       "</div>"
      ],
      "text/plain": [
       "  col1 col2\n",
       "0    a    b\n",
       "1    1    2"
      ]
     },
     "execution_count": 50,
     "metadata": {},
     "output_type": "execute_result"
    }
   ],
   "source": [
    "df"
   ]
  },
  {
   "cell_type": "code",
   "execution_count": 51,
   "metadata": {},
   "outputs": [],
   "source": [
    "df.to_csv(csv_buffer,index=False)"
   ]
  },
  {
   "cell_type": "code",
   "execution_count": 54,
   "metadata": {},
   "outputs": [
    {
     "data": {
      "text/plain": [
       "'col1,col2\\r\\na,b\\r\\n1,2\\r\\n'"
      ]
     },
     "execution_count": 54,
     "metadata": {},
     "output_type": "execute_result"
    }
   ],
   "source": [
    "csv_buffer.getvalue()"
   ]
  },
  {
   "cell_type": "code",
   "execution_count": 65,
   "metadata": {},
   "outputs": [
    {
     "data": {
      "text/plain": [
       "<azure.storage.blob._blob_client.BlobClient at 0x118ccb08>"
      ]
     },
     "execution_count": 65,
     "metadata": {},
     "output_type": "execute_result"
    }
   ],
   "source": [
    "container_client.upload_blob(name='sample.csv',data=csv_buffer.getvalue())"
   ]
  },
  {
   "cell_type": "code",
   "execution_count": 66,
   "metadata": {},
   "outputs": [
    {
     "data": {
      "text/plain": [
       "<azure.storage.blob._blob_client.BlobClient at 0x118cca60>"
      ]
     },
     "execution_count": 66,
     "metadata": {},
     "output_type": "execute_result"
    }
   ],
   "source": [
    "blob_client"
   ]
  },
  {
   "cell_type": "code",
   "execution_count": 70,
   "metadata": {},
   "outputs": [],
   "source": [
    "blobstring = container_client.download_blob('forest_co8011998_120218.csv')"
   ]
  },
  {
   "cell_type": "code",
   "execution_count": 71,
   "metadata": {},
   "outputs": [
    {
     "data": {
      "text/html": [
       "<div>\n",
       "<style scoped>\n",
       "    .dataframe tbody tr th:only-of-type {\n",
       "        vertical-align: middle;\n",
       "    }\n",
       "\n",
       "    .dataframe tbody tr th {\n",
       "        vertical-align: top;\n",
       "    }\n",
       "\n",
       "    .dataframe thead th {\n",
       "        text-align: right;\n",
       "    }\n",
       "</style>\n",
       "<table border=\"1\" class=\"dataframe\">\n",
       "  <thead>\n",
       "    <tr style=\"text-align: right;\">\n",
       "      <th></th>\n",
       "      <th>elevation</th>\n",
       "      <th>aspect</th>\n",
       "      <th>slope</th>\n",
       "      <th>horizontal_distance_to_hydrology</th>\n",
       "      <th>Vertical_Distance_To_Hydrology</th>\n",
       "      <th>Horizontal_Distance_To_Roadways</th>\n",
       "      <th>Horizontal_Distance_To_Fire_Points</th>\n",
       "      <th>wilderness_area1</th>\n",
       "      <th>wilderness_area2</th>\n",
       "      <th>wilderness_area3</th>\n",
       "      <th>...</th>\n",
       "      <th>soil_type_32</th>\n",
       "      <th>soil_type_33</th>\n",
       "      <th>soil_type_34</th>\n",
       "      <th>soil_type_35</th>\n",
       "      <th>soil_type_36</th>\n",
       "      <th>soil_type_37</th>\n",
       "      <th>soil_type_38</th>\n",
       "      <th>soil_type_39</th>\n",
       "      <th>soil_type_40</th>\n",
       "      <th>class</th>\n",
       "    </tr>\n",
       "  </thead>\n",
       "  <tbody>\n",
       "    <tr>\n",
       "      <th>0</th>\n",
       "      <td>2424</td>\n",
       "      <td>113</td>\n",
       "      <td>16</td>\n",
       "      <td>268</td>\n",
       "      <td>68</td>\n",
       "      <td>808</td>\n",
       "      <td>1260</td>\n",
       "      <td>0</td>\n",
       "      <td>0</td>\n",
       "      <td>0</td>\n",
       "      <td>...</td>\n",
       "      <td>0</td>\n",
       "      <td>0</td>\n",
       "      <td>0</td>\n",
       "      <td>0</td>\n",
       "      <td>0</td>\n",
       "      <td>0</td>\n",
       "      <td>0</td>\n",
       "      <td>0</td>\n",
       "      <td>0</td>\n",
       "      <td>Douglas_fir</td>\n",
       "    </tr>\n",
       "    <tr>\n",
       "      <th>1</th>\n",
       "      <td>3130</td>\n",
       "      <td>40</td>\n",
       "      <td>15</td>\n",
       "      <td>330</td>\n",
       "      <td>24</td>\n",
       "      <td>2279</td>\n",
       "      <td>1650</td>\n",
       "      <td>0</td>\n",
       "      <td>0</td>\n",
       "      <td>1</td>\n",
       "      <td>...</td>\n",
       "      <td>1</td>\n",
       "      <td>0</td>\n",
       "      <td>0</td>\n",
       "      <td>0</td>\n",
       "      <td>0</td>\n",
       "      <td>0</td>\n",
       "      <td>0</td>\n",
       "      <td>0</td>\n",
       "      <td>0</td>\n",
       "      <td>Lodgepole_Pine</td>\n",
       "    </tr>\n",
       "    <tr>\n",
       "      <th>2</th>\n",
       "      <td>3071</td>\n",
       "      <td>62</td>\n",
       "      <td>5</td>\n",
       "      <td>212</td>\n",
       "      <td>40</td>\n",
       "      <td>1321</td>\n",
       "      <td>2697</td>\n",
       "      <td>1</td>\n",
       "      <td>0</td>\n",
       "      <td>0</td>\n",
       "      <td>...</td>\n",
       "      <td>0</td>\n",
       "      <td>0</td>\n",
       "      <td>0</td>\n",
       "      <td>0</td>\n",
       "      <td>0</td>\n",
       "      <td>0</td>\n",
       "      <td>0</td>\n",
       "      <td>0</td>\n",
       "      <td>0</td>\n",
       "      <td>Lodgepole_Pine</td>\n",
       "    </tr>\n",
       "    <tr>\n",
       "      <th>3</th>\n",
       "      <td>3151</td>\n",
       "      <td>9</td>\n",
       "      <td>17</td>\n",
       "      <td>95</td>\n",
       "      <td>19</td>\n",
       "      <td>577</td>\n",
       "      <td>2029</td>\n",
       "      <td>0</td>\n",
       "      <td>1</td>\n",
       "      <td>0</td>\n",
       "      <td>...</td>\n",
       "      <td>0</td>\n",
       "      <td>0</td>\n",
       "      <td>0</td>\n",
       "      <td>0</td>\n",
       "      <td>0</td>\n",
       "      <td>0</td>\n",
       "      <td>0</td>\n",
       "      <td>0</td>\n",
       "      <td>0</td>\n",
       "      <td>Spruce_Fir</td>\n",
       "    </tr>\n",
       "    <tr>\n",
       "      <th>4</th>\n",
       "      <td>3139</td>\n",
       "      <td>74</td>\n",
       "      <td>3</td>\n",
       "      <td>283</td>\n",
       "      <td>9</td>\n",
       "      <td>2522</td>\n",
       "      <td>1463</td>\n",
       "      <td>1</td>\n",
       "      <td>0</td>\n",
       "      <td>0</td>\n",
       "      <td>...</td>\n",
       "      <td>0</td>\n",
       "      <td>0</td>\n",
       "      <td>0</td>\n",
       "      <td>0</td>\n",
       "      <td>0</td>\n",
       "      <td>0</td>\n",
       "      <td>0</td>\n",
       "      <td>0</td>\n",
       "      <td>0</td>\n",
       "      <td>Spruce_Fir</td>\n",
       "    </tr>\n",
       "    <tr>\n",
       "      <th>...</th>\n",
       "      <td>...</td>\n",
       "      <td>...</td>\n",
       "      <td>...</td>\n",
       "      <td>...</td>\n",
       "      <td>...</td>\n",
       "      <td>...</td>\n",
       "      <td>...</td>\n",
       "      <td>...</td>\n",
       "      <td>...</td>\n",
       "      <td>...</td>\n",
       "      <td>...</td>\n",
       "      <td>...</td>\n",
       "      <td>...</td>\n",
       "      <td>...</td>\n",
       "      <td>...</td>\n",
       "      <td>...</td>\n",
       "      <td>...</td>\n",
       "      <td>...</td>\n",
       "      <td>...</td>\n",
       "      <td>...</td>\n",
       "      <td>...</td>\n",
       "    </tr>\n",
       "    <tr>\n",
       "      <th>9996</th>\n",
       "      <td>2913</td>\n",
       "      <td>173</td>\n",
       "      <td>17</td>\n",
       "      <td>210</td>\n",
       "      <td>58</td>\n",
       "      <td>511</td>\n",
       "      <td>1040</td>\n",
       "      <td>0</td>\n",
       "      <td>0</td>\n",
       "      <td>1</td>\n",
       "      <td>...</td>\n",
       "      <td>0</td>\n",
       "      <td>0</td>\n",
       "      <td>0</td>\n",
       "      <td>0</td>\n",
       "      <td>0</td>\n",
       "      <td>0</td>\n",
       "      <td>0</td>\n",
       "      <td>0</td>\n",
       "      <td>0</td>\n",
       "      <td>Aspen</td>\n",
       "    </tr>\n",
       "    <tr>\n",
       "      <th>9997</th>\n",
       "      <td>2928</td>\n",
       "      <td>349</td>\n",
       "      <td>14</td>\n",
       "      <td>0</td>\n",
       "      <td>0</td>\n",
       "      <td>1165</td>\n",
       "      <td>2287</td>\n",
       "      <td>0</td>\n",
       "      <td>0</td>\n",
       "      <td>1</td>\n",
       "      <td>...</td>\n",
       "      <td>1</td>\n",
       "      <td>0</td>\n",
       "      <td>0</td>\n",
       "      <td>0</td>\n",
       "      <td>0</td>\n",
       "      <td>0</td>\n",
       "      <td>0</td>\n",
       "      <td>0</td>\n",
       "      <td>0</td>\n",
       "      <td>Lodgepole_Pine</td>\n",
       "    </tr>\n",
       "    <tr>\n",
       "      <th>9998</th>\n",
       "      <td>3329</td>\n",
       "      <td>165</td>\n",
       "      <td>13</td>\n",
       "      <td>997</td>\n",
       "      <td>213</td>\n",
       "      <td>2584</td>\n",
       "      <td>2242</td>\n",
       "      <td>0</td>\n",
       "      <td>0</td>\n",
       "      <td>1</td>\n",
       "      <td>...</td>\n",
       "      <td>0</td>\n",
       "      <td>1</td>\n",
       "      <td>0</td>\n",
       "      <td>0</td>\n",
       "      <td>0</td>\n",
       "      <td>0</td>\n",
       "      <td>0</td>\n",
       "      <td>0</td>\n",
       "      <td>0</td>\n",
       "      <td>Spruce_Fir</td>\n",
       "    </tr>\n",
       "    <tr>\n",
       "      <th>9999</th>\n",
       "      <td>3135</td>\n",
       "      <td>111</td>\n",
       "      <td>20</td>\n",
       "      <td>649</td>\n",
       "      <td>-59</td>\n",
       "      <td>582</td>\n",
       "      <td>1116</td>\n",
       "      <td>0</td>\n",
       "      <td>1</td>\n",
       "      <td>0</td>\n",
       "      <td>...</td>\n",
       "      <td>0</td>\n",
       "      <td>0</td>\n",
       "      <td>0</td>\n",
       "      <td>0</td>\n",
       "      <td>0</td>\n",
       "      <td>0</td>\n",
       "      <td>0</td>\n",
       "      <td>0</td>\n",
       "      <td>0</td>\n",
       "      <td>Lodgepole_Pine</td>\n",
       "    </tr>\n",
       "    <tr>\n",
       "      <th>10000</th>\n",
       "      <td>2834</td>\n",
       "      <td>0</td>\n",
       "      <td>12</td>\n",
       "      <td>30</td>\n",
       "      <td>3</td>\n",
       "      <td>4559</td>\n",
       "      <td>4788</td>\n",
       "      <td>1</td>\n",
       "      <td>0</td>\n",
       "      <td>0</td>\n",
       "      <td>...</td>\n",
       "      <td>0</td>\n",
       "      <td>0</td>\n",
       "      <td>0</td>\n",
       "      <td>0</td>\n",
       "      <td>0</td>\n",
       "      <td>0</td>\n",
       "      <td>0</td>\n",
       "      <td>0</td>\n",
       "      <td>0</td>\n",
       "      <td>Lodgepole_Pine</td>\n",
       "    </tr>\n",
       "  </tbody>\n",
       "</table>\n",
       "<p>10001 rows × 52 columns</p>\n",
       "</div>"
      ],
      "text/plain": [
       "       elevation  aspect  slope  horizontal_distance_to_hydrology  \\\n",
       "0           2424     113     16                               268   \n",
       "1           3130      40     15                               330   \n",
       "2           3071      62      5                               212   \n",
       "3           3151       9     17                                95   \n",
       "4           3139      74      3                               283   \n",
       "...          ...     ...    ...                               ...   \n",
       "9996        2913     173     17                               210   \n",
       "9997        2928     349     14                                 0   \n",
       "9998        3329     165     13                               997   \n",
       "9999        3135     111     20                               649   \n",
       "10000       2834       0     12                                30   \n",
       "\n",
       "       Vertical_Distance_To_Hydrology  Horizontal_Distance_To_Roadways  \\\n",
       "0                                  68                              808   \n",
       "1                                  24                             2279   \n",
       "2                                  40                             1321   \n",
       "3                                  19                              577   \n",
       "4                                   9                             2522   \n",
       "...                               ...                              ...   \n",
       "9996                               58                              511   \n",
       "9997                                0                             1165   \n",
       "9998                              213                             2584   \n",
       "9999                              -59                              582   \n",
       "10000                               3                             4559   \n",
       "\n",
       "       Horizontal_Distance_To_Fire_Points  wilderness_area1  wilderness_area2  \\\n",
       "0                                    1260                 0                 0   \n",
       "1                                    1650                 0                 0   \n",
       "2                                    2697                 1                 0   \n",
       "3                                    2029                 0                 1   \n",
       "4                                    1463                 1                 0   \n",
       "...                                   ...               ...               ...   \n",
       "9996                                 1040                 0                 0   \n",
       "9997                                 2287                 0                 0   \n",
       "9998                                 2242                 0                 0   \n",
       "9999                                 1116                 0                 1   \n",
       "10000                                4788                 1                 0   \n",
       "\n",
       "       wilderness_area3  ...  soil_type_32  soil_type_33  soil_type_34  \\\n",
       "0                     0  ...             0             0             0   \n",
       "1                     1  ...             1             0             0   \n",
       "2                     0  ...             0             0             0   \n",
       "3                     0  ...             0             0             0   \n",
       "4                     0  ...             0             0             0   \n",
       "...                 ...  ...           ...           ...           ...   \n",
       "9996                  1  ...             0             0             0   \n",
       "9997                  1  ...             1             0             0   \n",
       "9998                  1  ...             0             1             0   \n",
       "9999                  0  ...             0             0             0   \n",
       "10000                 0  ...             0             0             0   \n",
       "\n",
       "       soil_type_35  soil_type_36  soil_type_37  soil_type_38  soil_type_39  \\\n",
       "0                 0             0             0             0             0   \n",
       "1                 0             0             0             0             0   \n",
       "2                 0             0             0             0             0   \n",
       "3                 0             0             0             0             0   \n",
       "4                 0             0             0             0             0   \n",
       "...             ...           ...           ...           ...           ...   \n",
       "9996              0             0             0             0             0   \n",
       "9997              0             0             0             0             0   \n",
       "9998              0             0             0             0             0   \n",
       "9999              0             0             0             0             0   \n",
       "10000             0             0             0             0             0   \n",
       "\n",
       "       soil_type_40           class  \n",
       "0                 0     Douglas_fir  \n",
       "1                 0  Lodgepole_Pine  \n",
       "2                 0  Lodgepole_Pine  \n",
       "3                 0      Spruce_Fir  \n",
       "4                 0      Spruce_Fir  \n",
       "...             ...             ...  \n",
       "9996              0           Aspen  \n",
       "9997              0  Lodgepole_Pine  \n",
       "9998              0      Spruce_Fir  \n",
       "9999              0  Lodgepole_Pine  \n",
       "10000             0  Lodgepole_Pine  \n",
       "\n",
       "[10001 rows x 52 columns]"
      ]
     },
     "execution_count": 71,
     "metadata": {},
     "output_type": "execute_result"
    }
   ],
   "source": [
    "pd.read_csv(io.StringIO(blobstring.content_as_text()))"
   ]
  },
  {
   "cell_type": "code",
   "execution_count": 73,
   "metadata": {},
   "outputs": [],
   "source": [
    "blob_service_client.delete_container('98964315-b4bb-4217-917f-91725d4d0d68')"
   ]
  },
  {
   "cell_type": "code",
   "execution_count": 77,
   "metadata": {},
   "outputs": [
    {
     "data": {
      "text/plain": [
       "<azure.storage.blob._container_client.ContainerClient at 0x12774d48>"
      ]
     },
     "execution_count": 77,
     "metadata": {},
     "output_type": "execute_result"
    }
   ],
   "source": [
    "blob_service_client.create_container('trainbatchfiles')"
   ]
  },
  {
   "cell_type": "code",
   "execution_count": 78,
   "metadata": {},
   "outputs": [],
   "source": [
    "sample_client=blob_service_client.get_container_client('trainbatchfiles')"
   ]
  },
  {
   "cell_type": "code",
   "execution_count": 81,
   "metadata": {},
   "outputs": [
    {
     "ename": "NameError",
     "evalue": "name 'csv_buffer1' is not defined",
     "output_type": "error",
     "traceback": [
      "\u001b[1;31m---------------------------------------------------------------------------\u001b[0m",
      "\u001b[1;31mNameError\u001b[0m                                 Traceback (most recent call last)",
      "\u001b[1;32m<ipython-input-81-29763b1547df>\u001b[0m in \u001b[0;36m<module>\u001b[1;34m\u001b[0m\n\u001b[1;32m----> 1\u001b[1;33m \u001b[0msample_client\u001b[0m\u001b[1;33m.\u001b[0m\u001b[0mupload_blob\u001b[0m\u001b[1;33m(\u001b[0m\u001b[0mname\u001b[0m\u001b[1;33m=\u001b[0m\u001b[1;34m'sample1.csv'\u001b[0m\u001b[1;33m,\u001b[0m\u001b[0mdata\u001b[0m\u001b[1;33m=\u001b[0m\u001b[0mcsv_buffer1\u001b[0m\u001b[1;33m.\u001b[0m\u001b[0mgetvalue\u001b[0m\u001b[1;33m(\u001b[0m\u001b[1;33m)\u001b[0m\u001b[1;33m)\u001b[0m\u001b[1;33m\u001b[0m\u001b[1;33m\u001b[0m\u001b[0m\n\u001b[0m",
      "\u001b[1;31mNameError\u001b[0m: name 'csv_buffer1' is not defined"
     ]
    }
   ],
   "source": [
    "sample_client.upload_blob(name='sample1.csv',data=csv_buffer1.getvalue())"
   ]
  },
  {
   "cell_type": "code",
   "execution_count": 85,
   "metadata": {},
   "outputs": [
    {
     "data": {
      "text/plain": [
       "['sample.csv', 'sample1.csv']"
      ]
     },
     "execution_count": 85,
     "metadata": {},
     "output_type": "execute_result"
    }
   ],
   "source": [
    "[x.name for x in sample_client.list_blobs()]"
   ]
  },
  {
   "cell_type": "code",
   "execution_count": 86,
   "metadata": {},
   "outputs": [],
   "source": [
    "sample_client.delete_blob('sample.csv')"
   ]
  },
  {
   "cell_type": "code",
   "execution_count": 87,
   "metadata": {},
   "outputs": [],
   "source": [
    "import pickle"
   ]
  },
  {
   "cell_type": "code",
   "execution_count": 91,
   "metadata": {},
   "outputs": [
    {
     "name": "stderr",
     "output_type": "stream",
     "text": [
      "c:\\users\\garahul\\appdata\\local\\programs\\python\\python38-32\\lib\\site-packages\\sklearn\\base.py:329: UserWarning: Trying to unpickle estimator KMeans from version 0.22.1 when using version 0.23.2. This might lead to breaking code or invalid results. Use at your own risk.\n",
      "  warnings.warn(\n"
     ]
    }
   ],
   "source": [
    "f=open(os.path.join('models','KMeans','KMeans.sav'),'rb')\n",
    "obj1=pickle.load(f)"
   ]
  },
  {
   "cell_type": "code",
   "execution_count": 92,
   "metadata": {},
   "outputs": [
    {
     "data": {
      "text/plain": [
       "array([0, 1, 1, ..., 2, 1, 1])"
      ]
     },
     "execution_count": 92,
     "metadata": {},
     "output_type": "execute_result"
    }
   ],
   "source": [
    "obj1.labels_"
   ]
  },
  {
   "cell_type": "code",
   "execution_count": 96,
   "metadata": {},
   "outputs": [],
   "source": [
    "import dill"
   ]
  },
  {
   "cell_type": "code",
   "execution_count": 97,
   "metadata": {},
   "outputs": [
    {
     "data": {
      "text/plain": [
       "<azure.storage.blob._blob_client.BlobClient at 0x127cf358>"
      ]
     },
     "execution_count": 97,
     "metadata": {},
     "output_type": "execute_result"
    }
   ],
   "source": [
    "sample_client.upload_blob(name='KMeans.sav',data=dill.dumps(obj1))"
   ]
  },
  {
   "cell_type": "code",
   "execution_count": 98,
   "metadata": {},
   "outputs": [],
   "source": [
    "blobstring = sample_client.download_blob('KMeans.sav')"
   ]
  },
  {
   "cell_type": "code",
   "execution_count": 99,
   "metadata": {},
   "outputs": [],
   "source": [
    "model=dill.loads(blobstring.readall())"
   ]
  },
  {
   "cell_type": "code",
   "execution_count": 100,
   "metadata": {},
   "outputs": [
    {
     "data": {
      "text/plain": [
       "array([0, 1, 1, ..., 2, 1, 1])"
      ]
     },
     "execution_count": 100,
     "metadata": {},
     "output_type": "execute_result"
    }
   ],
   "source": [
    "model.labels_"
   ]
  },
  {
   "cell_type": "code",
   "execution_count": 101,
   "metadata": {},
   "outputs": [
    {
     "data": {
      "text/plain": [
       "'forestcoverclass'"
      ]
     },
     "execution_count": 101,
     "metadata": {},
     "output_type": "execute_result"
    }
   ],
   "source": [
    "sample_client.account_name"
   ]
  },
  {
   "cell_type": "code",
   "execution_count": 142,
   "metadata": {},
   "outputs": [],
   "source": [
    "import os\n",
    "import io\n",
    "import dill\n",
    "from azure.storage.blob import BlobServiceClient, BlobClient, ContainerClient\n",
    "from application_logging.logger import App_Logger\n",
    "import pandas as pd\n",
    "\n",
    "class AzureBlobStorage:\n",
    "    def __init__(self):\n",
    "        self.conn_str='DefaultEndpointsProtocol=https;AccountName=forestcoverclass;AccountKey=opC1RsZQ5O3bOYRoVPehd6ghJ+vyneY8QpcXbpDOd15r4FICnBBSMT6o45txXveLUCql7DfD2TeDVwJx8jQzzg==;EndpointSuffix=core.windows.net'\n",
    "        self.logger = App_Logger()\n",
    "        self.azure_client = BlobServiceClient.from_connection_string(self.conn_str)\n",
    "\n",
    "    def isFolderPresent(self,folder_name):\n",
    "        folder_list = self.azure_client.list_containers()\n",
    "\n",
    "        if folder_name in folder_list:\n",
    "            return True\n",
    "        else:\n",
    "            return False\n",
    "\n",
    "    def deleteFolder(self,folder_name):\n",
    "        if self.isFolderPresent(folder_name):\n",
    "            self.azure_client.delete_container(folder_name)\n",
    "\n",
    "    def createFolder(self,folder_name):\n",
    "        if self.isFolderPresent(folder_name):\n",
    "            self.deleteFolder(folder_name)\n",
    "        else:\n",
    "            self.azure_client.create_container(folder_name)\n",
    "\n",
    "    def uploadFiles(self,source_dir,dest_dir,file_name=''):\n",
    "        if not self.isFolderPresent(dest_dir):\n",
    "            self.createFolder(dest_dir)\n",
    "\n",
    "        container_client = self.azure_client.get_container_client(dest_dir)\n",
    "        if file_name=='':\n",
    "            for file_n in os.listdir(source_dir):\n",
    "                with open(os.path.join(source_dir, file_n), \"rb\") as data:\n",
    "                    blob_client = container_client.upload_blob(name=file_n, data=data)\n",
    "        else:\n",
    "            with open(os.path.join(source_dir, file_name), \"rb\") as data:\n",
    "                blob_client = container_client.upload_blob(name=file_name, data=data)\n",
    "\n",
    "    def listDirFiles(self,folder_name):\n",
    "        container_client = self.azure_client.get_container_client(folder_name)\n",
    "        return [x.name for x in container_client.list_blobs()]\n",
    "\n",
    "    def isFilePresent(self,folder_name,file_name):\n",
    "        if file_name in self.listDirFiles(folder_name):\n",
    "            return True\n",
    "        else:\n",
    "            return False\n",
    "\n",
    "    def deleteFile(self,folder_name,file_name=''):\n",
    "        container_client = self.azure_client.get_container_client(folder_name)\n",
    "        if self.isFolderPresent(folder_name):\n",
    "            file_names = self.listDirFiles(folder_name)\n",
    "            if file_name == '':\n",
    "                for file_n in file_names:\n",
    "                    container_client.delete_blob(file_n)\n",
    "            else:\n",
    "                if file_name in file_names:\n",
    "                    container_client.delete_blob(file_name)\n",
    "\n",
    "    def csvToDataframe(self, folder_name, file_name=''):\n",
    "        container_client = self.azure_client.get_container_client(folder_name)\n",
    "        if file_name == '':\n",
    "            request_files = self.listDirFiles(folder_name)\n",
    "            cnt=0\n",
    "            for file in request_files:\n",
    "                if '.csv' in file:\n",
    "                    print(file)\n",
    "                    #print(file['Key'])\n",
    "                    obj = container_client.download_blob(file)\n",
    "                    tmp_df = pd.read_csv(io.StringIO(obj.content_as_text()))\n",
    "                    print(tmp_df.shape)\n",
    "                    if cnt==0:\n",
    "                        obj_df=tmp_df.copy()\n",
    "                        cnt+=1\n",
    "                    else:\n",
    "                        obj_df=pd.concat([obj_df,tmp_df])\n",
    "            return obj_df\n",
    "        else:\n",
    "            obj = container_client.download_blob(file_name)\n",
    "            obj_df = pd.read_csv(io.StringIO(obj.content_as_text()))\n",
    "            return obj_df\n",
    "\n",
    "    def saveDataframeToCsv(self,folder_name,file_name,df):\n",
    "        if not self.isFolderPresent(folder_name):\n",
    "            self.createFolder(folder_name)\n",
    "        container_client = self.azure_client.get_container_client(folder_name)\n",
    "        csv_buffer = io.StringIO()\n",
    "        df.to_csv(csv_buffer,index=False)\n",
    "        container_client.upload_blob(name=file_name,data=csv_buffer.getvalue())\n",
    "\n",
    "    def saveObject(self,folder_name,file_name,object_name):\n",
    "        if not self.isFolderPresent(folder_name):\n",
    "            self.createFolder(folder_name)\n",
    "        container_client = self.azure_client.get_container_client(folder_name)\n",
    "        container_client.upload_blob(name=file_name, data=dill.dumps(object_name))\n",
    "\n",
    "    def loadObject(self,folder_name,file_name):\n",
    "        container_client = self.azure_client.get_container_client(folder_name)\n",
    "        blobstring = container_client.download_blob(file_name)\n",
    "        object_name = dill.loads(blobstring.readall())\n",
    "        return object_name\n",
    "\n",
    "    def copyFileToFolder(self,source_folder,target_folder,file_name=''):\n",
    "        account_name = self.azure_client.account_name\n",
    "        if file_name=='':\n",
    "            file_list=self.listDirFiles(source_folder)\n",
    "            for file_n in file_list:\n",
    "                print(file_n)\n",
    "                source_blob = (f\"https://{account_name}.blob.core.windows.net/{source_folder}/{file_n}\")\n",
    "                copied_blob = self.azure_client.get_blob_client(target_folder,file_n)\n",
    "                copied_blob.start_copy_from_url(source_blob)\n",
    "        else:\n",
    "            source_blob = (f\"https://{account_name}.blob.core.windows.net/{source_folder}/{file_name}\")\n",
    "            copied_blob = self.azure_client.get_blob_client(target_folder, file_name)\n",
    "            copied_blob.start_copy_from_url(source_blob)\n",
    "\n",
    "    def moveFileToFolder(self, source_folder, target_folder, file_name=''):\n",
    "        if file_name == '':\n",
    "            file_list = self.listDirFiles(source_folder)\n",
    "            for file_n in file_list:\n",
    "                self.copyFileToFolder(source_folder, target_folder, file_n)\n",
    "                source_client = self.azure_client.get_blob_client(source_folder,file_n)\n",
    "                source_client.delete_blob()\n",
    "        else:\n",
    "            self.copyFileToFolder(source_folder, target_folder, file_name)\n",
    "            source_client = self.azure_client.get_blob_client(source_folder, file_name)\n",
    "            source_client.delete_blob()"
   ]
  },
  {
   "cell_type": "code",
   "execution_count": 143,
   "metadata": {},
   "outputs": [],
   "source": [
    "obj = AzureBlobStorage()"
   ]
  },
  {
   "cell_type": "code",
   "execution_count": 118,
   "metadata": {},
   "outputs": [
    {
     "data": {
      "text/plain": [
       "True"
      ]
     },
     "execution_count": 118,
     "metadata": {},
     "output_type": "execute_result"
    }
   ],
   "source": [
    "obj.isFolderPresent('trainbatchfiles')"
   ]
  },
  {
   "cell_type": "code",
   "execution_count": 120,
   "metadata": {},
   "outputs": [
    {
     "data": {
      "text/plain": [
       "['KMeans.sav', 'sample1.csv']"
      ]
     },
     "execution_count": 120,
     "metadata": {},
     "output_type": "execute_result"
    }
   ],
   "source": [
    "obj.listDirFiles('trainbatchfiles')"
   ]
  },
  {
   "cell_type": "code",
   "execution_count": 121,
   "metadata": {},
   "outputs": [],
   "source": [
    "obj.deleteFile('trainbatchfiles')"
   ]
  },
  {
   "cell_type": "code",
   "execution_count": 122,
   "metadata": {},
   "outputs": [
    {
     "data": {
      "text/plain": [
       "[]"
      ]
     },
     "execution_count": 122,
     "metadata": {},
     "output_type": "execute_result"
    }
   ],
   "source": [
    "obj.listDirFiles('trainbatchfiles')"
   ]
  },
  {
   "cell_type": "code",
   "execution_count": 126,
   "metadata": {},
   "outputs": [],
   "source": [
    "st='Training_Batch_Files'\n",
    "mod_st=st.replace('_','').lower()"
   ]
  },
  {
   "cell_type": "code",
   "execution_count": 127,
   "metadata": {},
   "outputs": [],
   "source": [
    "obj.uploadFiles(st,mod_st)"
   ]
  },
  {
   "cell_type": "code",
   "execution_count": 128,
   "metadata": {},
   "outputs": [],
   "source": [
    "obj.deleteFolder('trainbatchfiles')"
   ]
  },
  {
   "cell_type": "code",
   "execution_count": 131,
   "metadata": {},
   "outputs": [
    {
     "data": {
      "text/plain": [
       "['forest_co8011998_120218.csv',\n",
       " 'forest_cover_28011990_120210.csv',\n",
       " 'forest_cover_28011991_120211.csv',\n",
       " 'forest_cover_28011992_120212.csv',\n",
       " 'forest_cover_28011993_120213.csv',\n",
       " 'forest_cover_28011994_120214.csv',\n",
       " 'forest_cover_28011995_120215.csv',\n",
       " 'forest_cover_28011996_120216.csv',\n",
       " 'forest_cover_28011997_1.csv',\n",
       " 'forest_cover_28011997_120217.csv',\n",
       " 'forest_cover_28011998_120218.csv',\n",
       " 'forest_cover_28011999_120219.csv',\n",
       " 'forest_cover_28011999_120259.csv',\n",
       " 'forest_cover_28012000_120220.csv',\n",
       " 'forest_cover_28012000_120258.csv']"
      ]
     },
     "execution_count": 131,
     "metadata": {},
     "output_type": "execute_result"
    }
   ],
   "source": [
    "container_client = obj.azure_client.get_container_client(mod_st)\n",
    "[x.name for x in container_client.list_blobs()]"
   ]
  },
  {
   "cell_type": "code",
   "execution_count": 136,
   "metadata": {},
   "outputs": [
    {
     "data": {
      "text/plain": [
       "True"
      ]
     },
     "execution_count": 136,
     "metadata": {},
     "output_type": "execute_result"
    }
   ],
   "source": [
    "obj.isFilePresent('trainingbatchfiles','forest_cover_28011990_120210.csv')"
   ]
  },
  {
   "cell_type": "code",
   "execution_count": 146,
   "metadata": {},
   "outputs": [],
   "source": [
    "df = obj.csvToDataframe('trainingbatchfiles', file_name='forest_cover_28011990_120210.csv')"
   ]
  },
  {
   "cell_type": "code",
   "execution_count": 147,
   "metadata": {},
   "outputs": [
    {
     "data": {
      "text/plain": [
       "(10001, 52)"
      ]
     },
     "execution_count": 147,
     "metadata": {},
     "output_type": "execute_result"
    }
   ],
   "source": [
    "df.shape"
   ]
  },
  {
   "cell_type": "code",
   "execution_count": 148,
   "metadata": {},
   "outputs": [],
   "source": [
    "obj.saveDataframeToCsv('samplefolder','sample.csv',df)"
   ]
  },
  {
   "cell_type": "code",
   "execution_count": 149,
   "metadata": {},
   "outputs": [],
   "source": [
    "obj.moveFileToFolder('samplefolder', 'trainingbatchfiles', 'sample.csv')"
   ]
  },
  {
   "cell_type": "code",
   "execution_count": null,
   "metadata": {},
   "outputs": [],
   "source": []
  }
 ],
 "metadata": {
  "kernelspec": {
   "display_name": "Python 3",
   "language": "python",
   "name": "python3"
  },
  "language_info": {
   "codemirror_mode": {
    "name": "ipython",
    "version": 3
   },
   "file_extension": ".py",
   "mimetype": "text/x-python",
   "name": "python",
   "nbconvert_exporter": "python",
   "pygments_lexer": "ipython3",
   "version": "3.8.6"
  }
 },
 "nbformat": 4,
 "nbformat_minor": 4
}
